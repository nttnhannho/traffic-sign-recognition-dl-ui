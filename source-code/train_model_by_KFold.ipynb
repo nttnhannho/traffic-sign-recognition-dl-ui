{
 "cells": [
  {
   "cell_type": "markdown",
   "metadata": {},
   "source": [
    "# IMPORT LIBRARIES"
   ]
  },
  {
   "cell_type": "code",
   "execution_count": null,
   "metadata": {},
   "outputs": [],
   "source": [
    "print(\"[INFO]: Importing modules.\")\n",
    "# libraries for Keras\n",
    "from keras.utils import to_categorical\n",
    "from keras.models import Sequential\n",
    "from keras.layers import Conv2D, MaxPool2D, Dense, Flatten\n",
    "from keras.optimizers import Adam\n",
    "\n",
    "# another\n",
    "import numpy as np\n",
    "import pandas as pd\n",
    "import matplotlib.pyplot as plt\n",
    "import cv2\n",
    "from PIL import Image\n",
    "import os\n",
    "from sklearn.metrics import accuracy_score\n",
    "from sklearn.model_selection import KFold\n",
    "from datetime import datetime\n",
    "\n",
    "# current time\n",
    "time = datetime.now().strftime(\"%Y-%m-%d %Hh-%Mm-%Ss\")\n",
    "print(\"[INFO]: Finish importing modules.\")"
   ]
  },
  {
   "cell_type": "markdown",
   "metadata": {},
   "source": [
    "# LOAD DATA TO TRAIN"
   ]
  },
  {
   "cell_type": "code",
   "execution_count": null,
   "metadata": {},
   "outputs": [],
   "source": [
    "# input image size\n",
    "height = 32\n",
    "width = 32\n",
    "channels = 3\n",
    "# class amount\n",
    "classes = 43\n",
    "# ratio to split Data Train into 2 part Train and Val: 80% to train and 20% to val.\n",
    "ratio = 0.2\n",
    "\n",
    "# variable\n",
    "data = []\n",
    "labels = []\n",
    "\n",
    "# reading the input images and putting them into a numpy array\n",
    "print(\"[INFO]: Loading data.\")\n",
    "for i in range(classes):\n",
    "    path = \"./input/train/{0}/\".format(i)\n",
    "    print(\"[INFO]: Loading data class {}.\".format(i))\n",
    "    class_ = os.listdir(path)\n",
    "    for item in class_:\n",
    "        try:\n",
    "            image = cv2.imread(path + item)\n",
    "            image_from_array = Image.fromarray(image, 'RGB')\n",
    "            size_image = image_from_array.resize((height, width))\n",
    "            data.append(np.array(size_image))\n",
    "            labels.append(i)\n",
    "        except Exception as e:\n",
    "            print(\"[EXCEPTION ERROR]: \" + e)\n",
    "            \n",
    "Cells = np.array(data)\n",
    "labels = np.array(labels)\n",
    "print(\"[INFO]: Finish loading data.\")"
   ]
  },
  {
   "cell_type": "markdown",
   "metadata": {},
   "source": [
    "# LOAD TEST DATASET"
   ]
  },
  {
   "cell_type": "code",
   "execution_count": null,
   "metadata": {},
   "outputs": [],
   "source": [
    "# variable\n",
    "data = []\n",
    "\n",
    "# load Test data\n",
    "print(\"[INFO]: Loading test set.\")\n",
    "y_test=pd.read_csv(\"./input/Test.csv\")\n",
    "_labels=y_test['Path'].values\n",
    "y_test=y_test['ClassId'].values\n",
    "for f in _labels:\n",
    "    path = './input/test/' + f.replace('Test/', '')\n",
    "    image = cv2.imread(path)\n",
    "    image_from_array = Image.fromarray(image, 'RGB')\n",
    "    size_image = image_from_array.resize((height, width))\n",
    "    data.append(np.array(size_image))\n",
    "\n",
    "X_test = np.array(data)\n",
    "X_test = X_test.astype('float32')/255\n",
    "print(\"[INFO]: Finish loading test set.\")"
   ]
  },
  {
   "cell_type": "markdown",
   "metadata": {},
   "source": [
    "# DEFINE TRAIN MODEL"
   ]
  },
  {
   "cell_type": "code",
   "execution_count": null,
   "metadata": {},
   "outputs": [],
   "source": [
    "# constant\n",
    "EPOCHS = 60\n",
    "BATCH_SIZE = 200\n",
    "# compilation of the model\n",
    "adam = Adam(lr=0.002)\n",
    "max_score = 0.0\n",
    "data_score = []\n",
    "\n",
    "def trainModel(X_train, X_val, y_train, y_val, X_test, y_test):\n",
    "    global max_score\n",
    "    global data_score\n",
    "    \n",
    "    ## Prepare Data\n",
    "    X_train = X_train.astype('float32')/255 \n",
    "    X_val = X_val.astype('float32')/255\n",
    "    y_train = to_categorical(y_train, classes)\n",
    "    y_val = to_categorical(y_val, classes)\n",
    "    \n",
    "    ## Create Model\n",
    "    model = Sequential()\n",
    "    # Layer 1: Convolutional. Input = 32x32x3. Output = 28x28x6. Activation = RELU.\n",
    "    model.add(Conv2D(filters=6, kernel_size=(5,5), strides=1, padding='valid', activation='relu', input_shape=X_train.shape[1:]))\n",
    "    # Pooling. Input = 28x28x6. Output = 14x14x6.\n",
    "    model.add(MaxPool2D(pool_size=(2, 2), strides=2, padding='valid'))\n",
    "    # Layer 2: Convolutional. Output = 10x10x16. Activation = RELU.\n",
    "    model.add(Conv2D(filters=16, kernel_size=(5,5), strides=1, padding='valid', activation='relu'))\n",
    "    # Pooling. Input = 10x10x16. Output = 5x5x16.\n",
    "    model.add(MaxPool2D(pool_size=(2, 2), strides=2, padding='valid'))\n",
    "    # Flatten. Input = 5x5x16. Output = 400.\n",
    "    model.add(Flatten())\n",
    "    # Layer 3: Fully Connected. Input = 400. Output = 120. Activation = RELU.\n",
    "    model.add(Dense(120, activation='relu'))\n",
    "    # Layer 4: Fully Connected. Input = 120. Output = 84. Activation = RELU.\n",
    "    model.add(Dense(84, activation='relu'))\n",
    "    # Layer 5: Fully Connected. Input = 84. Output = 43.\n",
    "    model.add(Dense(43, activation='softmax'))\n",
    "    model.compile(\n",
    "    loss='categorical_crossentropy', \n",
    "    optimizer=adam, \n",
    "    metrics=['accuracy']\n",
    "    )\n",
    "    \n",
    "    ## Train Model\n",
    "    history = model.fit(X_train, y_train, batch_size=BATCH_SIZE, epochs=EPOCHS, validation_data=(X_val, y_val))\n",
    "    \n",
    "    ## Predict\n",
    "    pred = model.predict_classes(X_test)\n",
    "    score = accuracy_score(y_test, pred)\n",
    "    data_score.append(score)\n",
    "    print(\"[INFO]: Finish. Test Accuracy: {0}\".format(score))\n",
    "    \n",
    "    if score > max_score:\n",
    "        max_score = score\n",
    "        ## Save Model\n",
    "        save_path = \"./model/{}_model{}.h5\".format(time, str(EPOCHS))\n",
    "        model.save(save_path)\n",
    "        print(\"[INFO]: Saved model to \" + save_path)"
   ]
  },
  {
   "cell_type": "markdown",
   "metadata": {},
   "source": [
    "# TRAIN MODEL"
   ]
  },
  {
   "cell_type": "code",
   "execution_count": null,
   "metadata": {},
   "outputs": [],
   "source": [
    "s = np.arange(Cells.shape[0])\n",
    "np.random.seed(classes)\n",
    "np.random.shuffle(s)\n",
    "\n",
    "cv = KFold(n_splits=5, shuffle=True, random_state=np.random)\n",
    "count = 0\n",
    "for train_index, test_index in cv.split(Cells):\n",
    "    count += 1\n",
    "    X_train, X_val, y_train, y_val = Cells[train_index], Cells[test_index], labels[train_index], labels[test_index]\n",
    "\n",
    "    print(\"[INFO]: Training model part {0}: \".format(count))\n",
    "    trainModel(X_train, X_val, y_train, y_val, X_test, y_test)"
   ]
  },
  {
   "cell_type": "markdown",
   "metadata": {},
   "source": [
    "# SUMMARY"
   ]
  },
  {
   "cell_type": "code",
   "execution_count": null,
   "metadata": {},
   "outputs": [],
   "source": [
    "print(\"[INFO]: SUMMARY:\")\n",
    "for i in range(len(data_score)):\n",
    "    print(\"[INFO]: Model {} accuracy: {}\".format(str(i + 1), data_score[i]))\n",
    "avg_accuracy = sum(data_score)/len(data_score)\n",
    "print(\"-\"*20)\n",
    "print(\"[INFO]: Average accuracy: {}\".format(avg_accuracy))\n",
    "max_accuracy = max(data_score)\n",
    "print(\"[INFO]: Highest accuracy: {}\".format(max_accuracy))\n",
    "y_pos = np.arange(1, len(data_score) + 1)\n",
    "plt.bar(y_pos, data_score, color=(0.2, 0.4, 0.6, 0.6))\n",
    " \n",
    "# Custom Axis title\n",
    "plt.xlabel('Accuracy', fontweight='bold', color = 'orange', fontsize='17', horizontalalignment='center')"
   ]
  }
 ],
 "metadata": {
  "kernelspec": {
   "display_name": "Python 3",
   "language": "python",
   "name": "python3"
  },
  "language_info": {
   "codemirror_mode": {
    "name": "ipython",
    "version": 3
   },
   "file_extension": ".py",
   "mimetype": "text/x-python",
   "name": "python",
   "nbconvert_exporter": "python",
   "pygments_lexer": "ipython3",
   "version": "3.7.5"
  }
 },
 "nbformat": 4,
 "nbformat_minor": 2
}
